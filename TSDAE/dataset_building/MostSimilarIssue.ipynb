{
  "cells": [
    {
      "cell_type": "code",
      "execution_count": 1,
      "metadata": {
        "colab": {
          "base_uri": "https://localhost:8080/"
        },
        "id": "BExt0UE_m7u-",
        "outputId": "e7cac9dd-e912-4b25-8e40-60754f2eeac7"
      },
      "outputs": [
        {
          "output_type": "stream",
          "name": "stdout",
          "text": [
            "Looking in indexes: https://pypi.org/simple, https://us-python.pkg.dev/colab-wheels/public/simple/\n",
            "Collecting sentence-transformers\n",
            "  Downloading sentence-transformers-2.2.2.tar.gz (85 kB)\n",
            "\u001b[K     |████████████████████████████████| 85 kB 1.9 MB/s \n",
            "\u001b[?25hCollecting transformers<5.0.0,>=4.6.0\n",
            "  Downloading transformers-4.20.1-py3-none-any.whl (4.4 MB)\n",
            "\u001b[K     |████████████████████████████████| 4.4 MB 31.2 MB/s \n",
            "\u001b[?25hRequirement already satisfied: tqdm in /usr/local/lib/python3.7/dist-packages (from sentence-transformers) (4.64.0)\n",
            "Requirement already satisfied: torch>=1.6.0 in /usr/local/lib/python3.7/dist-packages (from sentence-transformers) (1.12.0+cu113)\n",
            "Requirement already satisfied: torchvision in /usr/local/lib/python3.7/dist-packages (from sentence-transformers) (0.13.0+cu113)\n",
            "Requirement already satisfied: numpy in /usr/local/lib/python3.7/dist-packages (from sentence-transformers) (1.21.6)\n",
            "Requirement already satisfied: scikit-learn in /usr/local/lib/python3.7/dist-packages (from sentence-transformers) (1.0.2)\n",
            "Requirement already satisfied: scipy in /usr/local/lib/python3.7/dist-packages (from sentence-transformers) (1.5.4)\n",
            "Requirement already satisfied: nltk in /usr/local/lib/python3.7/dist-packages (from sentence-transformers) (3.7)\n",
            "Collecting sentencepiece\n",
            "  Downloading sentencepiece-0.1.96-cp37-cp37m-manylinux_2_17_x86_64.manylinux2014_x86_64.whl (1.2 MB)\n",
            "\u001b[K     |████████████████████████████████| 1.2 MB 48.8 MB/s \n",
            "\u001b[?25hCollecting huggingface-hub>=0.4.0\n",
            "  Downloading huggingface_hub-0.8.1-py3-none-any.whl (101 kB)\n",
            "\u001b[K     |████████████████████████████████| 101 kB 11.5 MB/s \n",
            "\u001b[?25hRequirement already satisfied: filelock in /usr/local/lib/python3.7/dist-packages (from huggingface-hub>=0.4.0->sentence-transformers) (3.7.1)\n",
            "Requirement already satisfied: packaging>=20.9 in /usr/local/lib/python3.7/dist-packages (from huggingface-hub>=0.4.0->sentence-transformers) (21.3)\n",
            "Requirement already satisfied: typing-extensions>=3.7.4.3 in /usr/local/lib/python3.7/dist-packages (from huggingface-hub>=0.4.0->sentence-transformers) (4.1.1)\n",
            "Requirement already satisfied: requests in /usr/local/lib/python3.7/dist-packages (from huggingface-hub>=0.4.0->sentence-transformers) (2.23.0)\n",
            "Requirement already satisfied: importlib-metadata in /usr/local/lib/python3.7/dist-packages (from huggingface-hub>=0.4.0->sentence-transformers) (4.12.0)\n",
            "Collecting pyyaml>=5.1\n",
            "  Downloading PyYAML-6.0-cp37-cp37m-manylinux_2_5_x86_64.manylinux1_x86_64.manylinux_2_12_x86_64.manylinux2010_x86_64.whl (596 kB)\n",
            "\u001b[K     |████████████████████████████████| 596 kB 50.5 MB/s \n",
            "\u001b[?25hRequirement already satisfied: pyparsing!=3.0.5,>=2.0.2 in /usr/local/lib/python3.7/dist-packages (from packaging>=20.9->huggingface-hub>=0.4.0->sentence-transformers) (3.0.9)\n",
            "Collecting tokenizers!=0.11.3,<0.13,>=0.11.1\n",
            "  Downloading tokenizers-0.12.1-cp37-cp37m-manylinux_2_12_x86_64.manylinux2010_x86_64.whl (6.6 MB)\n",
            "\u001b[K     |████████████████████████████████| 6.6 MB 34.3 MB/s \n",
            "\u001b[?25hRequirement already satisfied: regex!=2019.12.17 in /usr/local/lib/python3.7/dist-packages (from transformers<5.0.0,>=4.6.0->sentence-transformers) (2022.6.2)\n",
            "Requirement already satisfied: zipp>=0.5 in /usr/local/lib/python3.7/dist-packages (from importlib-metadata->huggingface-hub>=0.4.0->sentence-transformers) (3.8.0)\n",
            "Requirement already satisfied: click in /usr/local/lib/python3.7/dist-packages (from nltk->sentence-transformers) (7.1.2)\n",
            "Requirement already satisfied: joblib in /usr/local/lib/python3.7/dist-packages (from nltk->sentence-transformers) (1.1.0)\n",
            "Requirement already satisfied: urllib3!=1.25.0,!=1.25.1,<1.26,>=1.21.1 in /usr/local/lib/python3.7/dist-packages (from requests->huggingface-hub>=0.4.0->sentence-transformers) (1.24.3)\n",
            "Requirement already satisfied: idna<3,>=2.5 in /usr/local/lib/python3.7/dist-packages (from requests->huggingface-hub>=0.4.0->sentence-transformers) (2.10)\n",
            "Requirement already satisfied: certifi>=2017.4.17 in /usr/local/lib/python3.7/dist-packages (from requests->huggingface-hub>=0.4.0->sentence-transformers) (2022.6.15)\n",
            "Requirement already satisfied: chardet<4,>=3.0.2 in /usr/local/lib/python3.7/dist-packages (from requests->huggingface-hub>=0.4.0->sentence-transformers) (3.0.4)\n",
            "Requirement already satisfied: threadpoolctl>=2.0.0 in /usr/local/lib/python3.7/dist-packages (from scikit-learn->sentence-transformers) (3.1.0)\n",
            "Requirement already satisfied: pillow!=8.3.*,>=5.3.0 in /usr/local/lib/python3.7/dist-packages (from torchvision->sentence-transformers) (7.1.2)\n",
            "Building wheels for collected packages: sentence-transformers\n",
            "  Building wheel for sentence-transformers (setup.py) ... \u001b[?25l\u001b[?25hdone\n",
            "  Created wheel for sentence-transformers: filename=sentence_transformers-2.2.2-py3-none-any.whl size=125938 sha256=6352b425130abfbe64affba2a4cb9805f8e4504ca4aecbb06014f6c2fe2a3127\n",
            "  Stored in directory: /root/.cache/pip/wheels/bf/06/fb/d59c1e5bd1dac7f6cf61ec0036cc3a10ab8fecaa6b2c3d3ee9\n",
            "Successfully built sentence-transformers\n",
            "Installing collected packages: pyyaml, tokenizers, huggingface-hub, transformers, sentencepiece, sentence-transformers\n",
            "  Attempting uninstall: pyyaml\n",
            "    Found existing installation: PyYAML 3.13\n",
            "    Uninstalling PyYAML-3.13:\n",
            "      Successfully uninstalled PyYAML-3.13\n",
            "Successfully installed huggingface-hub-0.8.1 pyyaml-6.0 sentence-transformers-2.2.2 sentencepiece-0.1.96 tokenizers-0.12.1 transformers-4.20.1\n"
          ]
        },
        {
          "output_type": "stream",
          "name": "stderr",
          "text": [
            "[nltk_data] Downloading package punkt to /root/nltk_data...\n",
            "[nltk_data]   Unzipping tokenizers/punkt.zip.\n"
          ]
        },
        {
          "output_type": "execute_result",
          "data": {
            "text/plain": [
              "True"
            ]
          },
          "metadata": {},
          "execution_count": 1
        }
      ],
      "source": [
        "!pip3 install -U sentence-transformers\n",
        "import nltk\n",
        "nltk.download('punkt')"
      ]
    },
    {
      "cell_type": "code",
      "execution_count": 2,
      "metadata": {
        "id": "hVmWsVugnAYK"
      },
      "outputs": [],
      "source": [
        "from sentence_transformers.datasets import DenoisingAutoEncoderDataset\n",
        "from torch.utils.data import DataLoader\n",
        "from sentence_transformers import SentenceTransformer, models\n",
        "from sentence_transformers.losses import DenoisingAutoEncoderLoss"
      ]
    },
    {
      "cell_type": "code",
      "execution_count": 3,
      "metadata": {
        "colab": {
          "base_uri": "https://localhost:8080/"
        },
        "id": "8QgIheD0fZLh",
        "outputId": "6ee138a7-39ec-4895-e8d7-85d43ad6b499"
      },
      "outputs": [
        {
          "output_type": "stream",
          "name": "stdout",
          "text": [
            "Mounted at /content/drive\n"
          ]
        }
      ],
      "source": [
        "from google.colab import drive\n",
        "drive.mount('/content/drive')"
      ]
    },
    {
      "cell_type": "code",
      "execution_count": 7,
      "metadata": {
        "id": "6H9suA-e4yFY"
      },
      "outputs": [],
      "source": [
        "model = SentenceTransformer('/content/drive/MyDrive/Sentence-Transformer-Base/tsdae-bert-base-uncased')"
      ]
    },
    {
      "cell_type": "code",
      "source": [
        "from sklearn.metrics.pairwise import cosine_similarity\n",
        "\n",
        "def export_most_similar(path_input, path_output):\n",
        "  f=open(path_input)\n",
        "  lines=f.readlines()\n",
        "  lines=[l.strip() for l in lines]\n",
        "  f.close()\n",
        "\n",
        "  result=dict()\n",
        "  result_errors=list()\n",
        "\n",
        "  for i, l in enumerate(lines):\n",
        "\n",
        "    # print(l)\n",
        "    line=eval(l)\n",
        "    if i%100==0:\n",
        "      print(\"PROCESSED {} OUT OF {}\".format(i, len(lines)))\n",
        "\n",
        "    key=line[0]\n",
        "\n",
        "    method_tokens=\" \".join(eval(line[1]))\n",
        "    dict_open=eval(line[2])\n",
        "\n",
        "    issues=list()\n",
        "    issues_id=list()\n",
        "    issues_ok=list() # we kept track if the issue is empty (i.e., after the processing for extracting the list of words, the list is empty)\n",
        "    is_ok=False\n",
        "    for k in dict_open.keys():\n",
        "      issues_id.append(int(k))\n",
        "      issues.append(\" \".join(dict_open[k]))\n",
        "      if len(\" \".join(dict_open[k]).strip())>0:\n",
        "        is_ok=True\n",
        "        issues_ok.append(True)\n",
        "      else:\n",
        "        issues_ok.append(False)\n",
        "\n",
        "    # if method is empty we choose the last issue\n",
        "    if len(issues)==0:\n",
        "      result[key]=-1\n",
        "      continue\n",
        "    if len(eval(line[1]))==0:\n",
        "      result[key]=issues_id[-1]\n",
        "      print(\"METHOD EMPTY\")\n",
        "      result_errors.append(\"METHOD EMPTY\")\n",
        "      continue\n",
        "    if is_ok==False:\n",
        "      result[key]=issues_id[-1]\n",
        "      print(\"ISSUE EMPTY\")\n",
        "      result_errors.append(\"ISSUE EMPTY\")\n",
        "      continue\n",
        "\n",
        "    issue_embeddings = model.encode(issues)\n",
        "\n",
        "    method_embedding=model.encode([method_tokens])\n",
        "    simil=cosine_similarity(\n",
        "      [method_embedding[0]],\n",
        "      issue_embeddings\n",
        "    )\n",
        "    simil=simil[0]\n",
        "    # print(\"SIMIL\")\n",
        "    # print(simil)\n",
        "    order=sorted(range(len(simil)), key=lambda k: simil[k], reverse=True)\n",
        "    # print(\"ORDER\")\n",
        "    # print(order)\n",
        "    # print(\"ISSUES\")\n",
        "    # print(issues)\n",
        "    # print(issues_id)\n",
        "\n",
        "    best_issue_id=order[0]\n",
        "    # print(issues_id)\n",
        "    # print(issues)\n",
        "    # print(best_issue_id)\n",
        "    best_issue=(issues_id[best_issue_id])\n",
        "    result[key]=best_issue\n",
        "  f=open(file_output, \"w+\")\n",
        "  for k in result.keys():\n",
        "    f.write(\"{} {}\\n\".format(k, result[k]))\n",
        "  f.close()\n",
        "\n",
        "  f=open(file_output.replace(\".txt\", \"_errors.txt\"), \"w+\")\n",
        "  for k in result_errors:\n",
        "    f.write(\"{}\\n\".format(k))\n",
        "  f.close()"
      ],
      "metadata": {
        "id": "gjUVDFQCXtDY"
      },
      "execution_count": 8,
      "outputs": []
    },
    {
      "cell_type": "code",
      "source": [
        "for s in [\"train\", \"eval\", \"test\"]:\n",
        "  file_input= \"/content/drive/MyDrive/Sentence-Transformer-Base/tsdae_issue_{}.txt\".format(s)\n",
        "  file_output= \"/content/drive/MyDrive/Sentence-Transformer-Base/tsdae_issue_{}_result.txt\".format(s)\n",
        "  export_most_similar(file_input, file_output)\n"
      ],
      "metadata": {
        "colab": {
          "base_uri": "https://localhost:8080/"
        },
        "id": "FQnHPb_GXwx4",
        "outputId": "9ba92f23-46a9-406c-8095-e9d30a16daa2"
      },
      "execution_count": null,
      "outputs": [
        {
          "output_type": "stream",
          "name": "stdout",
          "text": [
            "PROCESSED 0 OUT OF 68215\n",
            "METHOD EMPTY\n",
            "METHOD EMPTY\n",
            "PROCESSED 100 OUT OF 68215\n",
            "PROCESSED 200 OUT OF 68215\n",
            "METHOD EMPTY\n"
          ]
        }
      ]
    },
    {
      "cell_type": "markdown",
      "source": [
        ""
      ],
      "metadata": {
        "id": "OPTnMeTzA-Fi"
      }
    }
  ],
  "metadata": {
    "accelerator": "GPU",
    "colab": {
      "collapsed_sections": [],
      "machine_shape": "hm",
      "name": "MostSimilarIssue.ipynb",
      "provenance": []
    },
    "kernelspec": {
      "display_name": "Python 3",
      "name": "python3"
    },
    "language_info": {
      "name": "python"
    }
  },
  "nbformat": 4,
  "nbformat_minor": 0
}